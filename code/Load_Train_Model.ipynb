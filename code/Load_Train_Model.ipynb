{
 "cells": [
  {
   "cell_type": "markdown",
   "id": "7cefbaf0",
   "metadata": {},
   "source": [
    "## Models"
   ]
  },
  {
   "cell_type": "code",
   "execution_count": null,
   "id": "b9d2be77",
   "metadata": {},
   "outputs": [],
   "source": [
    "# TPU\n",
    "# import tensorflow as tf\n",
    "# import os\n",
    "\n",
    "# resolver = tf.distribute.cluster_resolver.TPUClusterResolver(tpu='')\n",
    "# tf.config.experimental_connect_to_cluster(resolver)\n",
    "# # This is the TPU initialization code that has to be at the beginning.\n",
    "# tf.tpu.experimental.initialize_tpu_system(resolver)\n",
    "# print(\"All devices: \", tf.config.list_logical_devices('TPU'))"
   ]
  },
  {
   "cell_type": "code",
   "execution_count": null,
   "id": "8b86110d",
   "metadata": {},
   "outputs": [],
   "source": [
    "# !wget -c -O images.zip 'https://www.dropbox.com/scl/fi/2w1y67p7turdo3w1vfh8p/images.zip?rlkey=bpfxk4jp3e56zca2iulspz627&dl=0'"
   ]
  },
  {
   "cell_type": "code",
   "execution_count": null,
   "id": "c179c582",
   "metadata": {},
   "outputs": [],
   "source": [
    "# !zip -FF /notebooks/images.zip -O /notebooks/images_fixed.zip\n",
    "# !unzip /notebooks/images_fixed.zip"
   ]
  },
  {
   "cell_type": "code",
   "execution_count": null,
   "id": "9c5d8b99",
   "metadata": {},
   "outputs": [],
   "source": [
    "# !wget -c -O trained_model.zip https://www.dropbox.com/scl/fi/2tu163f2uycs041dikkvn/trained_model.zip?rlkey=af9iv94rygis2nm9m92q60dk2&dl=0\n",
    "# !unzip /notebooks/trained_model.zip"
   ]
  },
  {
   "cell_type": "markdown",
   "id": "980bcd68",
   "metadata": {},
   "source": [
    "### Import Required Libraries"
   ]
  },
  {
   "cell_type": "code",
   "execution_count": 1,
   "id": "4d790f63",
   "metadata": {},
   "outputs": [],
   "source": [
    "import matplotlib.pyplot as plotter_lib\n",
    "import pandas as pd\n",
    "import numpy as np\n",
    "import PIL as image_lib\n",
    "import tensorflow as tflow\n",
    "from tensorflow.keras.layers import Flatten\n",
    "from tensorflow.keras.layers import Dense\n",
    "from tensorflow.keras.models import Sequential\n",
    "from tensorflow.keras.optimizers import Adam"
   ]
  },
  {
   "cell_type": "markdown",
   "id": "900aa507",
   "metadata": {},
   "source": [
    "### Partition and Visualize Data"
   ]
  },
  {
   "cell_type": "code",
   "execution_count": 2,
   "id": "53fb8c28",
   "metadata": {},
   "outputs": [
    {
     "data": {
      "text/html": [
       "<div>\n",
       "<style scoped>\n",
       "    .dataframe tbody tr th:only-of-type {\n",
       "        vertical-align: middle;\n",
       "    }\n",
       "\n",
       "    .dataframe tbody tr th {\n",
       "        vertical-align: top;\n",
       "    }\n",
       "\n",
       "    .dataframe thead th {\n",
       "        text-align: right;\n",
       "    }\n",
       "</style>\n",
       "<table border=\"1\" class=\"dataframe\">\n",
       "  <thead>\n",
       "    <tr style=\"text-align: right;\">\n",
       "      <th></th>\n",
       "      <th>id</th>\n",
       "      <th>gender</th>\n",
       "      <th>subCategory</th>\n",
       "      <th>articleType</th>\n",
       "      <th>baseColour</th>\n",
       "      <th>season</th>\n",
       "      <th>usage</th>\n",
       "      <th>image_path</th>\n",
       "      <th>gender_enc</th>\n",
       "      <th>subCategory_enc</th>\n",
       "      <th>articleType_enc</th>\n",
       "      <th>baseColour_enc</th>\n",
       "      <th>season_enc</th>\n",
       "      <th>usage_enc</th>\n",
       "      <th>combined</th>\n",
       "    </tr>\n",
       "  </thead>\n",
       "  <tbody>\n",
       "    <tr>\n",
       "      <th>0</th>\n",
       "      <td>15970</td>\n",
       "      <td>Men</td>\n",
       "      <td>Topwear</td>\n",
       "      <td>Shirts</td>\n",
       "      <td>Navy Blue</td>\n",
       "      <td>Fall/Winter</td>\n",
       "      <td>Casual</td>\n",
       "      <td>../data/images/15970.jpg</td>\n",
       "      <td>2</td>\n",
       "      <td>1</td>\n",
       "      <td>6</td>\n",
       "      <td>10</td>\n",
       "      <td>0</td>\n",
       "      <td>0</td>\n",
       "      <td>Men_Topwear_Shirts_Navy Blue_Fall/Winter_Casual</td>\n",
       "    </tr>\n",
       "    <tr>\n",
       "      <th>1</th>\n",
       "      <td>39386</td>\n",
       "      <td>Men</td>\n",
       "      <td>Bottomwear</td>\n",
       "      <td>Jeans</td>\n",
       "      <td>Blue</td>\n",
       "      <td>Spring/Summer</td>\n",
       "      <td>Casual</td>\n",
       "      <td>../data/images/39386.jpg</td>\n",
       "      <td>2</td>\n",
       "      <td>0</td>\n",
       "      <td>2</td>\n",
       "      <td>2</td>\n",
       "      <td>1</td>\n",
       "      <td>0</td>\n",
       "      <td>Men_Bottomwear_Jeans_Blue_Spring/Summer_Casual</td>\n",
       "    </tr>\n",
       "    <tr>\n",
       "      <th>2</th>\n",
       "      <td>21379</td>\n",
       "      <td>Men</td>\n",
       "      <td>Bottomwear</td>\n",
       "      <td>Track Pants</td>\n",
       "      <td>Black</td>\n",
       "      <td>Fall/Winter</td>\n",
       "      <td>Casual</td>\n",
       "      <td>../data/images/21379.jpg</td>\n",
       "      <td>2</td>\n",
       "      <td>0</td>\n",
       "      <td>12</td>\n",
       "      <td>1</td>\n",
       "      <td>0</td>\n",
       "      <td>0</td>\n",
       "      <td>Men_Bottomwear_Track Pants_Black_Fall/Winter_C...</td>\n",
       "    </tr>\n",
       "    <tr>\n",
       "      <th>3</th>\n",
       "      <td>53759</td>\n",
       "      <td>Men</td>\n",
       "      <td>Topwear</td>\n",
       "      <td>Tshirts</td>\n",
       "      <td>Grey</td>\n",
       "      <td>Spring/Summer</td>\n",
       "      <td>Casual</td>\n",
       "      <td>../data/images/53759.jpg</td>\n",
       "      <td>2</td>\n",
       "      <td>1</td>\n",
       "      <td>14</td>\n",
       "      <td>7</td>\n",
       "      <td>1</td>\n",
       "      <td>0</td>\n",
       "      <td>Men_Topwear_Tshirts_Grey_Spring/Summer_Casual</td>\n",
       "    </tr>\n",
       "    <tr>\n",
       "      <th>4</th>\n",
       "      <td>1855</td>\n",
       "      <td>Men</td>\n",
       "      <td>Topwear</td>\n",
       "      <td>Tshirts</td>\n",
       "      <td>Grey</td>\n",
       "      <td>Spring/Summer</td>\n",
       "      <td>Casual</td>\n",
       "      <td>../data/images/1855.jpg</td>\n",
       "      <td>2</td>\n",
       "      <td>1</td>\n",
       "      <td>14</td>\n",
       "      <td>7</td>\n",
       "      <td>1</td>\n",
       "      <td>0</td>\n",
       "      <td>Men_Topwear_Tshirts_Grey_Spring/Summer_Casual</td>\n",
       "    </tr>\n",
       "    <tr>\n",
       "      <th>...</th>\n",
       "      <td>...</td>\n",
       "      <td>...</td>\n",
       "      <td>...</td>\n",
       "      <td>...</td>\n",
       "      <td>...</td>\n",
       "      <td>...</td>\n",
       "      <td>...</td>\n",
       "      <td>...</td>\n",
       "      <td>...</td>\n",
       "      <td>...</td>\n",
       "      <td>...</td>\n",
       "      <td>...</td>\n",
       "      <td>...</td>\n",
       "      <td>...</td>\n",
       "      <td>...</td>\n",
       "    </tr>\n",
       "    <tr>\n",
       "      <th>54338</th>\n",
       "      <td>13671</td>\n",
       "      <td>Unisex</td>\n",
       "      <td>Bottomwear</td>\n",
       "      <td>Jeans</td>\n",
       "      <td>Blue</td>\n",
       "      <td>Fall/Winter</td>\n",
       "      <td>Casual</td>\n",
       "      <td>../data/images/13671.jpg</td>\n",
       "      <td>3</td>\n",
       "      <td>0</td>\n",
       "      <td>2</td>\n",
       "      <td>2</td>\n",
       "      <td>0</td>\n",
       "      <td>0</td>\n",
       "      <td>Unisex_Bottomwear_Jeans_Blue_Fall/Winter_Casual</td>\n",
       "    </tr>\n",
       "    <tr>\n",
       "      <th>54339</th>\n",
       "      <td>33279</td>\n",
       "      <td>Unisex</td>\n",
       "      <td>Bottomwear</td>\n",
       "      <td>Jeans</td>\n",
       "      <td>Blue</td>\n",
       "      <td>Spring/Summer</td>\n",
       "      <td>Casual</td>\n",
       "      <td>../data/images/33279.jpg</td>\n",
       "      <td>3</td>\n",
       "      <td>0</td>\n",
       "      <td>2</td>\n",
       "      <td>2</td>\n",
       "      <td>1</td>\n",
       "      <td>0</td>\n",
       "      <td>Unisex_Bottomwear_Jeans_Blue_Spring/Summer_Casual</td>\n",
       "    </tr>\n",
       "    <tr>\n",
       "      <th>54340</th>\n",
       "      <td>13672</td>\n",
       "      <td>Unisex</td>\n",
       "      <td>Bottomwear</td>\n",
       "      <td>Jeans</td>\n",
       "      <td>Blue</td>\n",
       "      <td>Fall/Winter</td>\n",
       "      <td>Casual</td>\n",
       "      <td>../data/images/13672.jpg</td>\n",
       "      <td>3</td>\n",
       "      <td>0</td>\n",
       "      <td>2</td>\n",
       "      <td>2</td>\n",
       "      <td>0</td>\n",
       "      <td>0</td>\n",
       "      <td>Unisex_Bottomwear_Jeans_Blue_Fall/Winter_Casual</td>\n",
       "    </tr>\n",
       "    <tr>\n",
       "      <th>54341</th>\n",
       "      <td>33280</td>\n",
       "      <td>Unisex</td>\n",
       "      <td>Bottomwear</td>\n",
       "      <td>Jeans</td>\n",
       "      <td>Blue</td>\n",
       "      <td>Spring/Summer</td>\n",
       "      <td>Casual</td>\n",
       "      <td>../data/images/33280.jpg</td>\n",
       "      <td>3</td>\n",
       "      <td>0</td>\n",
       "      <td>2</td>\n",
       "      <td>2</td>\n",
       "      <td>1</td>\n",
       "      <td>0</td>\n",
       "      <td>Unisex_Bottomwear_Jeans_Blue_Spring/Summer_Casual</td>\n",
       "    </tr>\n",
       "    <tr>\n",
       "      <th>54342</th>\n",
       "      <td>31162</td>\n",
       "      <td>Unisex</td>\n",
       "      <td>Bottomwear</td>\n",
       "      <td>Jeans</td>\n",
       "      <td>Blue</td>\n",
       "      <td>Spring/Summer</td>\n",
       "      <td>Casual</td>\n",
       "      <td>../data/images/31162.jpg</td>\n",
       "      <td>3</td>\n",
       "      <td>0</td>\n",
       "      <td>2</td>\n",
       "      <td>2</td>\n",
       "      <td>1</td>\n",
       "      <td>0</td>\n",
       "      <td>Unisex_Bottomwear_Jeans_Blue_Spring/Summer_Casual</td>\n",
       "    </tr>\n",
       "  </tbody>\n",
       "</table>\n",
       "<p>54343 rows × 15 columns</p>\n",
       "</div>"
      ],
      "text/plain": [
       "          id  gender subCategory  articleType baseColour         season  \\\n",
       "0      15970     Men     Topwear       Shirts  Navy Blue    Fall/Winter   \n",
       "1      39386     Men  Bottomwear        Jeans       Blue  Spring/Summer   \n",
       "2      21379     Men  Bottomwear  Track Pants      Black    Fall/Winter   \n",
       "3      53759     Men     Topwear      Tshirts       Grey  Spring/Summer   \n",
       "4       1855     Men     Topwear      Tshirts       Grey  Spring/Summer   \n",
       "...      ...     ...         ...          ...        ...            ...   \n",
       "54338  13671  Unisex  Bottomwear        Jeans       Blue    Fall/Winter   \n",
       "54339  33279  Unisex  Bottomwear        Jeans       Blue  Spring/Summer   \n",
       "54340  13672  Unisex  Bottomwear        Jeans       Blue    Fall/Winter   \n",
       "54341  33280  Unisex  Bottomwear        Jeans       Blue  Spring/Summer   \n",
       "54342  31162  Unisex  Bottomwear        Jeans       Blue  Spring/Summer   \n",
       "\n",
       "        usage                image_path  gender_enc  subCategory_enc  \\\n",
       "0      Casual  ../data/images/15970.jpg           2                1   \n",
       "1      Casual  ../data/images/39386.jpg           2                0   \n",
       "2      Casual  ../data/images/21379.jpg           2                0   \n",
       "3      Casual  ../data/images/53759.jpg           2                1   \n",
       "4      Casual   ../data/images/1855.jpg           2                1   \n",
       "...       ...                       ...         ...              ...   \n",
       "54338  Casual  ../data/images/13671.jpg           3                0   \n",
       "54339  Casual  ../data/images/33279.jpg           3                0   \n",
       "54340  Casual  ../data/images/13672.jpg           3                0   \n",
       "54341  Casual  ../data/images/33280.jpg           3                0   \n",
       "54342  Casual  ../data/images/31162.jpg           3                0   \n",
       "\n",
       "       articleType_enc  baseColour_enc  season_enc  usage_enc  \\\n",
       "0                    6              10           0          0   \n",
       "1                    2               2           1          0   \n",
       "2                   12               1           0          0   \n",
       "3                   14               7           1          0   \n",
       "4                   14               7           1          0   \n",
       "...                ...             ...         ...        ...   \n",
       "54338                2               2           0          0   \n",
       "54339                2               2           1          0   \n",
       "54340                2               2           0          0   \n",
       "54341                2               2           1          0   \n",
       "54342                2               2           1          0   \n",
       "\n",
       "                                                combined  \n",
       "0        Men_Topwear_Shirts_Navy Blue_Fall/Winter_Casual  \n",
       "1         Men_Bottomwear_Jeans_Blue_Spring/Summer_Casual  \n",
       "2      Men_Bottomwear_Track Pants_Black_Fall/Winter_C...  \n",
       "3          Men_Topwear_Tshirts_Grey_Spring/Summer_Casual  \n",
       "4          Men_Topwear_Tshirts_Grey_Spring/Summer_Casual  \n",
       "...                                                  ...  \n",
       "54338    Unisex_Bottomwear_Jeans_Blue_Fall/Winter_Casual  \n",
       "54339  Unisex_Bottomwear_Jeans_Blue_Spring/Summer_Casual  \n",
       "54340    Unisex_Bottomwear_Jeans_Blue_Fall/Winter_Casual  \n",
       "54341  Unisex_Bottomwear_Jeans_Blue_Spring/Summer_Casual  \n",
       "54342  Unisex_Bottomwear_Jeans_Blue_Spring/Summer_Casual  \n",
       "\n",
       "[54343 rows x 15 columns]"
      ]
     },
     "execution_count": 2,
     "metadata": {},
     "output_type": "execute_result"
    }
   ],
   "source": [
    "df = pd.read_csv('../data/df.csv', sep = '\\t')\n",
    "\n",
    "df['combined'] = df['gender'] + \"_\" + df['subCategory'] + \"_\" + df['articleType'] + \"_\" + \\\n",
    "                 df['baseColour'] + \"_\" + df['season'] + \"_\" + df['usage']\n",
    "\n",
    "df"
   ]
  },
  {
   "cell_type": "code",
   "execution_count": 3,
   "id": "22e41729",
   "metadata": {},
   "outputs": [],
   "source": [
    "from sklearn.model_selection import train_test_split\n",
    "\n",
    "\n",
    "df['combined'] = df['gender'] + \"_\" + df['subCategory'] + \"_\" + df['articleType'] + \"_\" + df['baseColour'] + \"_\" + \\\n",
    "                 df['season'] + \"_\" + df['usage']"
   ]
  },
  {
   "cell_type": "code",
   "execution_count": null,
   "id": "1dfab2fb",
   "metadata": {},
   "outputs": [],
   "source": [
    "# import pathlib\n",
    "\n",
    "\n",
    "# # Define a custom function to concatenate the strings\n",
    "# def create_image_path(row):\n",
    "#     path = '/notebooks/images/'\n",
    "#     suffix = '.jpg'\n",
    "#     return path + str(row['id']) + suffix\n",
    "\n",
    "\n",
    "# df['image_path'] = df.apply(create_image_path, axis=1)\n",
    "\n",
    "# # Display the resulting DataFrame with the new 'image_path' column\n",
    "# df"
   ]
  },
  {
   "cell_type": "code",
   "execution_count": 4,
   "id": "e4ef6e9a",
   "metadata": {},
   "outputs": [
    {
     "name": "stdout",
     "output_type": "stream",
     "text": [
      "Original size: 54343\n",
      "Train + Test size: 43481 + 10862 = 54343\n"
     ]
    }
   ],
   "source": [
    "from sklearn.model_selection import train_test_split\n",
    "\n",
    "\n",
    "# Calculate the value counts of the 'combined' column\n",
    "combined_value_counts = df['combined'].value_counts()\n",
    "\n",
    "# Find the combined values with a count of 1\n",
    "combined_values_with_1_count = combined_value_counts[combined_value_counts == 1].index\n",
    "\n",
    "# Remove rows with these combined values from the DataFrame\n",
    "df_filtered = df[~df['combined'].isin(combined_values_with_1_count)]\n",
    "\n",
    "# Split the filtered DataFrame into train and test sets while stratifying by 'combined'\n",
    "train, test = train_test_split(df_filtered, test_size=0.2, random_state=123, stratify=df_filtered[['combined']])\n",
    "\n",
    "# Append the rows with 1 count back to the train set\n",
    "train = pd.concat([train, df[df['combined'].isin(combined_values_with_1_count)]])\n",
    "\n",
    "# Verify the sizes of train and test sets\n",
    "print(\"Original size:\", len(df))\n",
    "print(\"Train + Test size:\", len(train), '+', len(test), '=', len(train) + len(test))"
   ]
  },
  {
   "cell_type": "code",
   "execution_count": 5,
   "id": "6586193d",
   "metadata": {
    "scrolled": true
   },
   "outputs": [
    {
     "name": "stdout",
     "output_type": "stream",
     "text": [
      "Found 43475 validated image filenames.\n"
     ]
    },
    {
     "name": "stderr",
     "output_type": "stream",
     "text": [
      "C:\\Users\\Lefteris_Souflas\\anaconda3\\lib\\site-packages\\keras\\src\\preprocessing\\image.py:1137: UserWarning: Found 6 invalid image filename(s) in x_col=\"image_path\". These filename(s) will be ignored.\n",
      "  warnings.warn(\n"
     ]
    },
    {
     "name": "stdout",
     "output_type": "stream",
     "text": [
      "Found 10860 validated image filenames.\n"
     ]
    },
    {
     "name": "stderr",
     "output_type": "stream",
     "text": [
      "C:\\Users\\Lefteris_Souflas\\anaconda3\\lib\\site-packages\\keras\\src\\preprocessing\\image.py:1137: UserWarning: Found 2 invalid image filename(s) in x_col=\"image_path\". These filename(s) will be ignored.\n",
      "  warnings.warn(\n"
     ]
    }
   ],
   "source": [
    "import pandas as pd\n",
    "import numpy as np\n",
    "import tensorflow as tf\n",
    "from tensorflow.keras.preprocessing.image import ImageDataGenerator\n",
    "\n",
    "\n",
    "# Define image dimensions\n",
    "img_height, img_width = 224, 224\n",
    "\n",
    "# Define batch size\n",
    "batch_size = 32\n",
    "\n",
    "y_col = [\"subCategory_enc\", \"articleType_enc\", \"gender_enc\", \"baseColour_enc\", \"season_enc\", \"usage_enc\"]\n",
    "\n",
    "# Create a custom data generator for training data\n",
    "datagen = ImageDataGenerator(\n",
    "    rescale=1.0/255.0,  # Normalize pixel values to the range [0, 1]\n",
    "#     validation_split=0.2  # Specify validation split\n",
    ")\n",
    "\n",
    "# Use the flow_from_dataframe method to load and preprocess training images from the DataFrame\n",
    "train_generator = datagen.flow_from_dataframe(\n",
    "    dataframe=train,\n",
    "    x_col=\"image_path\",  # Column name in the DataFrame that contains image paths\n",
    "    y_col=y_col,  # List of columns containing labels\n",
    "    target_size=(img_height, img_width),\n",
    "    batch_size=batch_size,\n",
    "#     subset=\"training\",  # Specify training subset\n",
    "    class_mode=\"multi_output\",  # Use \"multi_output\" mode for multiple labels\n",
    "    shuffle=True,  # Shuffle the data\n",
    "    seed=123  # Random seed for reproducibility\n",
    ")\n",
    "\n",
    "# Use the flow_from_dataframe method to load and preprocess validation images from the DataFrame\n",
    "validation_generator = datagen.flow_from_dataframe(\n",
    "    dataframe=test, \n",
    "    x_col=\"image_path\",  # Column name in the DataFrame that contains image paths\n",
    "    y_col=y_col,  # List of columns containing labels\n",
    "    target_size=(img_height, img_width),\n",
    "    batch_size=batch_size,\n",
    "#     subset=\"validation\",  # Specify validation subset\n",
    "    class_mode=\"multi_output\",  # Use \"multi_output\" mode for multiple labels\n",
    "    shuffle=False,  # No need to shuffle the validation data\n",
    "    seed=123  # Random seed for reproducibility\n",
    ")\n",
    "\n",
    "# You can use the generated data for training and validation\n",
    "# For example, you can fit a model using model.fit(train_generator, validation_data=validation_generator)"
   ]
  },
  {
   "cell_type": "markdown",
   "id": "43e88a1f",
   "metadata": {},
   "source": [
    "### Load, Train and Save Model"
   ]
  },
  {
   "cell_type": "code",
   "execution_count": null,
   "id": "5c75f21f",
   "metadata": {},
   "outputs": [],
   "source": [
    "# import tensorflow as tf\n",
    "# tf.config.list_logical_devices('GPU')"
   ]
  },
  {
   "cell_type": "code",
   "execution_count": 6,
   "id": "cba667c0",
   "metadata": {},
   "outputs": [
    {
     "name": "stdout",
     "output_type": "stream",
     "text": [
      "PhysicalDevice(name='/physical_device:CPU:0', device_type='CPU')\n"
     ]
    }
   ],
   "source": [
    "import tensorflow as tf\n",
    "devices = tf.config.experimental.list_physical_devices()\n",
    "for device in devices:\n",
    "    print(device)"
   ]
  },
  {
   "cell_type": "code",
   "execution_count": 7,
   "id": "2adb05ac",
   "metadata": {},
   "outputs": [],
   "source": [
    "from tensorflow.keras.models import load_model\n",
    "\n",
    "\n",
    "# tf.debugging.set_log_device_placement(True)\n",
    "# gpus = tf.config.list_logical_devices('GPU')\n",
    "# strategy = tf.distribute.MirroredStrategy(gpus)\n",
    "\n",
    "# with strategy.scope():\n",
    "# with tf.device('GPU'):\n",
    "# model = load_model(\"../models/saved_models/trained_model\", compile=False)\n",
    "model = load_model(\"../models/saved_models/from_papersource/saved_models/notebooks/saved_models/trained_model.h5\", \n",
    "                   compile=False)\n",
    "\n",
    "# Compile the model with appropriate loss functions for each output\n",
    "model.compile(optimizer='adam',\n",
    "              loss={'subCategory_output': 'binary_crossentropy',\n",
    "                    'articleType_output': 'sparse_categorical_crossentropy',  \n",
    "                    'gender_output': 'sparse_categorical_crossentropy',\n",
    "                    'baseColour_output': 'sparse_categorical_crossentropy',\n",
    "                    'season_output': 'binary_crossentropy',\n",
    "                    'usage_output': 'sparse_categorical_crossentropy'},\n",
    "              metrics=['accuracy'])"
   ]
  },
  {
   "cell_type": "code",
   "execution_count": null,
   "id": "e25aeb9c",
   "metadata": {},
   "outputs": [],
   "source": [
    "# import os\n",
    "\n",
    "# # Define the directory path\n",
    "# checkpoint_dir = \"/notebooks/checkpoints/\"\n",
    "# model_dir = \"/notebooks/saved_models/\"\n",
    "\n",
    "# # Create the directory if it doesn't exist\n",
    "# os.makedirs(checkpoint_dir, exist_ok=True)\n",
    "# os.makedirs(model_dir, exist_ok=True)"
   ]
  },
  {
   "cell_type": "code",
   "execution_count": 10,
   "id": "c292113c",
   "metadata": {},
   "outputs": [],
   "source": [
    "epochs=70\n",
    "initial_epoch=45\n",
    "early_stopping_callback = tf.keras.callbacks.EarlyStopping(monitor='val_loss', \n",
    "                                            patience=4, \n",
    "                                            verbose=1, \n",
    "                                            restore_best_weights=True)\n",
    "\n",
    "checkpoint_filepath = 'checkpoints/weights.{epoch:02d}-{val_loss:.2f}.hdf5'\n",
    "model_checkpoint_callback = tf.keras.callbacks.ModelCheckpoint(\n",
    "    filepath=checkpoint_filepath,\n",
    "    save_weights_only=True,\n",
    "    monitor='val_loss',\n",
    "    mode='min',\n",
    "    save_best_only=True)"
   ]
  },
  {
   "cell_type": "code",
   "execution_count": 11,
   "id": "a3f13dae",
   "metadata": {},
   "outputs": [
    {
     "name": "stdout",
     "output_type": "stream",
     "text": [
      "Epoch 38/45\n",
      "1359/1359 [==============================] - 3219s 2s/step - loss: 2.0965 - subCategory_output_loss: 0.0139 - articleType_output_loss: 0.3420 - gender_output_loss: 0.1322 - baseColour_output_loss: 1.0370 - season_output_loss: 0.3597 - usage_output_loss: 0.2118 - subCategory_output_accuracy: 0.9956 - articleType_output_accuracy: 0.8871 - gender_output_accuracy: 0.9528 - baseColour_output_accuracy: 0.6748 - season_output_accuracy: 0.8381 - usage_output_accuracy: 0.9297 - val_loss: 2.2541 - val_subCategory_output_loss: 0.0121 - val_articleType_output_loss: 0.3513 - val_gender_output_loss: 0.1283 - val_baseColour_output_loss: 1.1286 - val_season_output_loss: 0.4121 - val_usage_output_loss: 0.2217 - val_subCategory_output_accuracy: 0.9967 - val_articleType_output_accuracy: 0.8868 - val_gender_output_accuracy: 0.9570 - val_baseColour_output_accuracy: 0.6458 - val_season_output_accuracy: 0.8066 - val_usage_output_accuracy: 0.9266\n",
      "Epoch 39/45\n",
      "1359/1359 [==============================] - 3227s 2s/step - loss: 2.0611 - subCategory_output_loss: 0.0134 - articleType_output_loss: 0.3340 - gender_output_loss: 0.1300 - baseColour_output_loss: 1.0193 - season_output_loss: 0.3572 - usage_output_loss: 0.2072 - subCategory_output_accuracy: 0.9957 - articleType_output_accuracy: 0.8901 - gender_output_accuracy: 0.9527 - baseColour_output_accuracy: 0.6787 - season_output_accuracy: 0.8408 - usage_output_accuracy: 0.9317 - val_loss: 2.3154 - val_subCategory_output_loss: 0.0135 - val_articleType_output_loss: 0.3608 - val_gender_output_loss: 0.1521 - val_baseColour_output_loss: 1.1370 - val_season_output_loss: 0.4417 - val_usage_output_loss: 0.2103 - val_subCategory_output_accuracy: 0.9960 - val_articleType_output_accuracy: 0.8862 - val_gender_output_accuracy: 0.9427 - val_baseColour_output_accuracy: 0.6448 - val_season_output_accuracy: 0.7838 - val_usage_output_accuracy: 0.9298\n",
      "Epoch 40/45\n",
      "1359/1359 [==============================] - 3241s 2s/step - loss: 2.0498 - subCategory_output_loss: 0.0127 - articleType_output_loss: 0.3306 - gender_output_loss: 0.1291 - baseColour_output_loss: 1.0146 - season_output_loss: 0.3550 - usage_output_loss: 0.2078 - subCategory_output_accuracy: 0.9959 - articleType_output_accuracy: 0.8898 - gender_output_accuracy: 0.9538 - baseColour_output_accuracy: 0.6805 - season_output_accuracy: 0.8400 - usage_output_accuracy: 0.9307 - val_loss: 2.2168 - val_subCategory_output_loss: 0.0169 - val_articleType_output_loss: 0.3845 - val_gender_output_loss: 0.1297 - val_baseColour_output_loss: 1.0861 - val_season_output_loss: 0.3495 - val_usage_output_loss: 0.2502 - val_subCategory_output_accuracy: 0.9955 - val_articleType_output_accuracy: 0.8757 - val_gender_output_accuracy: 0.9523 - val_baseColour_output_accuracy: 0.6655 - val_season_output_accuracy: 0.8477 - val_usage_output_accuracy: 0.9141\n",
      "Epoch 41/45\n",
      "1359/1359 [==============================] - 3216s 2s/step - loss: 2.0374 - subCategory_output_loss: 0.0126 - articleType_output_loss: 0.3283 - gender_output_loss: 0.1270 - baseColour_output_loss: 1.0125 - season_output_loss: 0.3519 - usage_output_loss: 0.2051 - subCategory_output_accuracy: 0.9962 - articleType_output_accuracy: 0.8892 - gender_output_accuracy: 0.9536 - baseColour_output_accuracy: 0.6802 - season_output_accuracy: 0.8428 - usage_output_accuracy: 0.9313 - val_loss: 2.2013 - val_subCategory_output_loss: 0.0127 - val_articleType_output_loss: 0.3655 - val_gender_output_loss: 0.1526 - val_baseColour_output_loss: 1.0831 - val_season_output_loss: 0.3437 - val_usage_output_loss: 0.2438 - val_subCategory_output_accuracy: 0.9972 - val_articleType_output_accuracy: 0.8781 - val_gender_output_accuracy: 0.9444 - val_baseColour_output_accuracy: 0.6618 - val_season_output_accuracy: 0.8556 - val_usage_output_accuracy: 0.9226\n",
      "Epoch 42/45\n",
      "1359/1359 [==============================] - 3234s 2s/step - loss: 2.0109 - subCategory_output_loss: 0.0126 - articleType_output_loss: 0.3240 - gender_output_loss: 0.1225 - baseColour_output_loss: 0.9997 - season_output_loss: 0.3496 - usage_output_loss: 0.2025 - subCategory_output_accuracy: 0.9962 - articleType_output_accuracy: 0.8918 - gender_output_accuracy: 0.9557 - baseColour_output_accuracy: 0.6851 - season_output_accuracy: 0.8441 - usage_output_accuracy: 0.9328 - val_loss: 2.2179 - val_subCategory_output_loss: 0.0145 - val_articleType_output_loss: 0.3640 - val_gender_output_loss: 0.1227 - val_baseColour_output_loss: 1.1196 - val_season_output_loss: 0.3499 - val_usage_output_loss: 0.2472 - val_subCategory_output_accuracy: 0.9961 - val_articleType_output_accuracy: 0.8777 - val_gender_output_accuracy: 0.9566 - val_baseColour_output_accuracy: 0.6617 - val_season_output_accuracy: 0.8471 - val_usage_output_accuracy: 0.9060\n",
      "Epoch 43/45\n",
      "1359/1359 [==============================] - 3241s 2s/step - loss: 1.9874 - subCategory_output_loss: 0.0120 - articleType_output_loss: 0.3201 - gender_output_loss: 0.1219 - baseColour_output_loss: 0.9848 - season_output_loss: 0.3487 - usage_output_loss: 0.2000 - subCategory_output_accuracy: 0.9960 - articleType_output_accuracy: 0.8929 - gender_output_accuracy: 0.9562 - baseColour_output_accuracy: 0.6886 - season_output_accuracy: 0.8443 - usage_output_accuracy: 0.9330 - val_loss: 2.1799 - val_subCategory_output_loss: 0.0141 - val_articleType_output_loss: 0.3747 - val_gender_output_loss: 0.1169 - val_baseColour_output_loss: 1.0883 - val_season_output_loss: 0.3742 - val_usage_output_loss: 0.2116 - val_subCategory_output_accuracy: 0.9961 - val_articleType_output_accuracy: 0.8785 - val_gender_output_accuracy: 0.9572 - val_baseColour_output_accuracy: 0.6578 - val_season_output_accuracy: 0.8295 - val_usage_output_accuracy: 0.9324\n",
      "Epoch 44/45\n",
      "1359/1359 [==============================] - 3229s 2s/step - loss: 1.9712 - subCategory_output_loss: 0.0110 - articleType_output_loss: 0.3156 - gender_output_loss: 0.1200 - baseColour_output_loss: 0.9847 - season_output_loss: 0.3410 - usage_output_loss: 0.1989 - subCategory_output_accuracy: 0.9968 - articleType_output_accuracy: 0.8946 - gender_output_accuracy: 0.9568 - baseColour_output_accuracy: 0.6899 - season_output_accuracy: 0.8498 - usage_output_accuracy: 0.9337 - val_loss: 2.1915 - val_subCategory_output_loss: 0.0156 - val_articleType_output_loss: 0.3381 - val_gender_output_loss: 0.1238 - val_baseColour_output_loss: 1.1294 - val_season_output_loss: 0.3394 - val_usage_output_loss: 0.2452 - val_subCategory_output_accuracy: 0.9954 - val_articleType_output_accuracy: 0.8852 - val_gender_output_accuracy: 0.9576 - val_baseColour_output_accuracy: 0.6563 - val_season_output_accuracy: 0.8547 - val_usage_output_accuracy: 0.9198\n",
      "Epoch 45/45\n",
      "1359/1359 [==============================] - 3236s 2s/step - loss: 1.9599 - subCategory_output_loss: 0.0112 - articleType_output_loss: 0.3142 - gender_output_loss: 0.1197 - baseColour_output_loss: 0.9748 - season_output_loss: 0.3432 - usage_output_loss: 0.1967 - subCategory_output_accuracy: 0.9963 - articleType_output_accuracy: 0.8941 - gender_output_accuracy: 0.9563 - baseColour_output_accuracy: 0.6923 - season_output_accuracy: 0.8490 - usage_output_accuracy: 0.9347 - val_loss: 2.1740 - val_subCategory_output_loss: 0.0257 - val_articleType_output_loss: 0.3918 - val_gender_output_loss: 0.1218 - val_baseColour_output_loss: 1.0711 - val_season_output_loss: 0.3390 - val_usage_output_loss: 0.2246 - val_subCategory_output_accuracy: 0.9910 - val_articleType_output_accuracy: 0.8671 - val_gender_output_accuracy: 0.9577 - val_baseColour_output_accuracy: 0.6684 - val_season_output_accuracy: 0.8563 - val_usage_output_accuracy: 0.9242\n"
     ]
    }
   ],
   "source": [
    "history = model.fit(train_generator, validation_data=validation_generator, epochs=epochs, initial_epoch=initial_epoch,\n",
    "                    callbacks=[early_stopping_callback, model_checkpoint_callback])"
   ]
  },
  {
   "cell_type": "code",
   "execution_count": 12,
   "id": "f9d45a19",
   "metadata": {},
   "outputs": [
    {
     "name": "stderr",
     "output_type": "stream",
     "text": [
      "C:\\Users\\Lefteris_Souflas\\anaconda3\\lib\\site-packages\\keras\\src\\engine\\training.py:3000: UserWarning: You are saving your model as an HDF5 file via `model.save()`. This file format is considered legacy. We recommend using instead the native Keras format, e.g. `model.save('my_model.keras')`.\n",
      "  saving_api.save_model(\n"
     ]
    },
    {
     "name": "stdout",
     "output_type": "stream",
     "text": [
      "INFO:tensorflow:Assets written to: saved_models/trained_model\\assets\n"
     ]
    },
    {
     "name": "stderr",
     "output_type": "stream",
     "text": [
      "INFO:tensorflow:Assets written to: saved_models/trained_model\\assets\n"
     ]
    }
   ],
   "source": [
    "# Export model\n",
    "model.save('saved_models/trained_model.h5', overwrite=True, save_format='h5')\n",
    "model.save('saved_models/trained_model', overwrite=True, save_format='tf')\n",
    "# # The model weights (that are considered the best) are loaded into the model.\n",
    "# model.load_weights(checkpoint_filepath)"
   ]
  },
  {
   "cell_type": "code",
   "execution_count": null,
   "id": "4d7fb650",
   "metadata": {},
   "outputs": [],
   "source": [
    "# !zip -r /notebooks/saved_models.zip '/notebooks/checkpoints' '/notebooks/saved_models'"
   ]
  },
  {
   "cell_type": "markdown",
   "id": "b1c1913c",
   "metadata": {},
   "source": [
    "### Evaluate Model"
   ]
  },
  {
   "cell_type": "code",
   "execution_count": 13,
   "id": "2e2fa7e1",
   "metadata": {},
   "outputs": [],
   "source": [
    "# Combine the lists into a 2D array\n",
    "accuracy_matrix = np.array([history.history['subCategory_output_accuracy'], \n",
    "                            history.history['articleType_output_accuracy'], \n",
    "                            history.history['gender_output_accuracy'], \n",
    "                            history.history['baseColour_output_accuracy'], \n",
    "                            history.history['season_output_accuracy'], \n",
    "                            history.history['usage_output_accuracy']])\n",
    "\n",
    "# Calculate the average for each position (across all lists)\n",
    "accuracy = np.mean(accuracy_matrix, axis=0)"
   ]
  },
  {
   "cell_type": "code",
   "execution_count": 14,
   "id": "a9d2fe2b",
   "metadata": {},
   "outputs": [],
   "source": [
    "# Combine the lists into a 2D array\n",
    "val_accuracy_matrix = np.array([history.history['val_subCategory_output_accuracy'], \n",
    "                            history.history['val_articleType_output_accuracy'], \n",
    "                            history.history['val_gender_output_accuracy'], \n",
    "                            history.history['val_baseColour_output_accuracy'], \n",
    "                            history.history['val_season_output_accuracy'], \n",
    "                            history.history['val_usage_output_accuracy']])\n",
    "\n",
    "# Calculate the average for each position (across all lists)\n",
    "val_accuracy = np.mean(val_accuracy_matrix, axis=0)"
   ]
  },
  {
   "cell_type": "code",
   "execution_count": 15,
   "id": "164c5b2b",
   "metadata": {},
   "outputs": [
    {
     "data": {
      "text/plain": [
       "<matplotlib.legend.Legend at 0x1cb52b3fc10>"
      ]
     },
     "execution_count": 15,
     "metadata": {},
     "output_type": "execute_result"
    },
    {
     "data": {
      "image/png": "[encoded data removed]",
      "text/plain": [
       "<Figure size 800x800 with 1 Axes>"
      ]
     },
     "metadata": {},
     "output_type": "display_data"
    }
   ],
   "source": [
    "# Make sure both epochs_range and accuracy have the same length\n",
    "plotter_lib.figure(figsize=(8, 8))\n",
    "epochs_range = range(initial_epoch+1, epochs+1)\n",
    "# epochs_range= range(epochs)\n",
    "\n",
    "plotter_lib.plot(epochs_range, accuracy, label=\"Training Accuracy\")\n",
    "plotter_lib.plot(epochs_range, val_accuracy, label=\"Validation Accuracy\")\n",
    "plotter_lib.axis(ymin=0.4, ymax=1)\n",
    "plotter_lib.grid()\n",
    "plotter_lib.title('Model Accuracy')\n",
    "plotter_lib.ylabel('Accuracy')\n",
    "plotter_lib.xlabel('Epochs')\n",
    "plotter_lib.legend(['train', 'validation'])\n",
    "\n",
    "# plotter_lib.show()\n",
    "# plotter_lib.savefig('output-plot_accuracy.png') "
   ]
  },
  {
   "cell_type": "code",
   "execution_count": 16,
   "id": "124bb123",
   "metadata": {},
   "outputs": [
    {
     "data": {
      "image/png": "[encoded data removed]",
      "text/plain": [
       "<Figure size 800x800 with 1 Axes>"
      ]
     },
     "metadata": {},
     "output_type": "display_data"
    }
   ],
   "source": [
    "import matplotlib.pyplot as plt\n",
    "\n",
    "# Assuming you have a history object from model.fit()\n",
    "\n",
    "# Create a range of epochs\n",
    "epochs_range = range(initial_epoch+1, epochs+1)\n",
    "\n",
    "# Plotting\n",
    "plt.figure(figsize=(8, 8))\n",
    "plt.plot(epochs_range, history.history['loss'], label=\"Training Loss\")\n",
    "plt.plot(epochs_range, history.history['val_loss'], label=\"Validation Loss\")\n",
    "plt.axis(ymin=0, ymax=10)  # Adjust the y-axis range as needed\n",
    "plt.grid()\n",
    "plt.title('Model Loss')\n",
    "plt.ylabel('Loss')\n",
    "plt.xlabel('Epochs')\n",
    "plt.legend(['train', 'validation'])\n",
    "plt.show()\n"
   ]
  }
 ],
 "metadata": {
  "kernelspec": {
   "display_name": "Python 3 (ipykernel)",
   "language": "python",
   "name": "python3"
  },
  "language_info": {
   "codemirror_mode": {
    "name": "ipython",
    "version": 3
   },
   "file_extension": ".py",
   "mimetype": "text/x-python",
   "name": "python",
   "nbconvert_exporter": "python",
   "pygments_lexer": "ipython3",
   "version": "3.9.13"
  }
 },
 "nbformat": 4,
 "nbformat_minor": 5
}
